{
 "cells": [
  {
   "cell_type": "code",
   "execution_count": 2,
   "id": "e4f31cca",
   "metadata": {},
   "outputs": [
    {
     "name": "stdout",
     "output_type": "stream",
     "text": [
      "Enter the name:Anisha\n",
      "Enter the roll number:21\n",
      "Enter the mark:78\n",
      "Name : Anisha\n",
      "Roll No : 21\n",
      "Mark : 78\n"
     ]
    }
   ],
   "source": [
    "name=input('Enter the name:')\n",
    "rollno=input('Enter the roll number:')\n",
    "mark=input('Enter the mark:')\n",
    "print('Name :',name)\n",
    "print('Roll No :',rollno)\n",
    "print('Mark :',mark)"
   ]
  },
  {
   "cell_type": "code",
   "execution_count": 3,
   "id": "52725822",
   "metadata": {},
   "outputs": [
    {
     "name": "stdout",
     "output_type": "stream",
     "text": [
      "Temperature in Fahrenheit =41\n",
      "Temperature in Celsius = 5.0\n"
     ]
    }
   ],
   "source": [
    "temp=int(input('Temperature in Fahrenheit ='))\n",
    "cel=((temp-32)/9)*5\n",
    "print('Temperature in Celsius =',cel)"
   ]
  },
  {
   "cell_type": "code",
   "execution_count": 5,
   "id": "f3078344",
   "metadata": {},
   "outputs": [
    {
     "name": "stdout",
     "output_type": "stream",
     "text": [
      "Enter the first number :50\n",
      "Enter the second number :50\n",
      "The product of the numbers : 2500\n"
     ]
    }
   ],
   "source": [
    "num1=int(input('Enter the first number :'))\n",
    "num2=int(input('Enter the second number :'))\n",
    "pdt=num1*num2\n",
    "print('The product of the numbers :',pdt)"
   ]
  },
  {
   "cell_type": "code",
   "execution_count": 26,
   "id": "5d95503d",
   "metadata": {},
   "outputs": [
    {
     "name": "stdout",
     "output_type": "stream",
     "text": [
      "Learn**Python**by Developing a**Website**\n"
     ]
    }
   ],
   "source": [
    "st='''Learn**Python**by Developing a**Website**'''\n",
    "print(st)"
   ]
  },
  {
   "cell_type": "code",
   "execution_count": 27,
   "id": "3857f0ea",
   "metadata": {},
   "outputs": [
    {
     "name": "stdout",
     "output_type": "stream",
     "text": [
      "Enter the radius of the circle :5\n",
      "Area of the circle =  78.53981633974483\n"
     ]
    }
   ],
   "source": [
    "import math\n",
    "r=int(input('Enter the radius of the circle :'))\n",
    "area=math.pi*r*r\n",
    "print('Area of the circle = ',area )"
   ]
  },
  {
   "cell_type": "code",
   "execution_count": 29,
   "id": "9731a119",
   "metadata": {},
   "outputs": [
    {
     "name": "stdout",
     "output_type": "stream",
     "text": [
      "Enter the position of the number to be changed = 3\n",
      "Enter the number to be changed = 0\n",
      "[2, 3, 4, 0, 5, 6, 7]\n"
     ]
    }
   ],
   "source": [
    "list1=[2,3,4,5,6,7]\n",
    "num1=int(input('Enter the position of the number to be changed = '))\n",
    "num2=int(input('Enter the number to be changed = '))\n",
    "list1.insert(num1,num2)\n",
    "print(list1)"
   ]
  },
  {
   "cell_type": "code",
   "execution_count": 31,
   "id": "a9e616e3",
   "metadata": {},
   "outputs": [
    {
     "name": "stdout",
     "output_type": "stream",
     "text": [
      "Rename the city : USA\n",
      "{'name': 'John', 'age': '5', 'salary': '8000', 'city': 'USA'}\n"
     ]
    }
   ],
   "source": [
    "d={\"name\":\"John\",\"age\":\"5\",\"salary\":\"8000\",\"city\":\"New York\"}\n",
    "place=input('Rename the city : ')\n",
    "d[\"city\"]=place\n",
    "print(d)"
   ]
  },
  {
   "cell_type": "code",
   "execution_count": 33,
   "id": "da1ece52",
   "metadata": {},
   "outputs": [
    {
     "name": "stdout",
     "output_type": "stream",
     "text": [
      "{'emp1': {'name': 'John', 'salary': '7500'}, 'emp2': {'name': 'Emma', 'salary': '8000'}, 'emp3': {'name': 'Brad', 'salary': 8500}}\n"
     ]
    }
   ],
   "source": [
    "d={'emp1':{'name':'John','salary':'7500'},\n",
    "  'emp2':{'name':'Emma','salary':'8000'},\n",
    "  'emp3':{'name':'Brad','salary':'500'}}\n",
    "d['emp3']['salary']=8500\n",
    "print(d)"
   ]
  },
  {
   "cell_type": "code",
   "execution_count": 35,
   "id": "f50d2941",
   "metadata": {},
   "outputs": [
    {
     "name": "stdout",
     "output_type": "stream",
     "text": [
      "(43, 54)\n"
     ]
    }
   ],
   "source": [
    "tuple1=(10,20,43,54,56,68)\n",
    "tuple2=(tuple1[2],tuple1[3])\n",
    "print(tuple2)"
   ]
  },
  {
   "cell_type": "code",
   "execution_count": 36,
   "id": "48d9e267",
   "metadata": {},
   "outputs": [
    {
     "data": {
      "text/plain": [
       "3"
      ]
     },
     "execution_count": 36,
     "metadata": {},
     "output_type": "execute_result"
    }
   ],
   "source": [
    "tuple1=(50,10,60,70,50,83,567,50,81)\n",
    "tuple1.count(50)"
   ]
  }
 ],
 "metadata": {
  "kernelspec": {
   "display_name": "Python 3 (ipykernel)",
   "language": "python",
   "name": "python3"
  },
  "language_info": {
   "codemirror_mode": {
    "name": "ipython",
    "version": 3
   },
   "file_extension": ".py",
   "mimetype": "text/x-python",
   "name": "python",
   "nbconvert_exporter": "python",
   "pygments_lexer": "ipython3",
   "version": "3.9.13"
  }
 },
 "nbformat": 4,
 "nbformat_minor": 5
}
