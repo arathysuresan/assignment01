{
 "cells": [
  {
   "cell_type": "markdown",
   "id": "b961a3f9",
   "metadata": {},
   "source": [
    "1. A school has following rules for grading system:\n",
    "a. Below 25 - F\n",
    "b. 25 to 45 - E\n",
    "c. 45 to 50 - D\n",
    "d. 50 to 60 - C\n",
    "e. 60 to 80 - B\n",
    "f. Above 80 - A\n",
    "Ask user to enter marks and print the corresponding grade."
   ]
  },
  {
   "cell_type": "code",
   "execution_count": 25,
   "id": "097d3a2d",
   "metadata": {},
   "outputs": [
    {
     "name": "stdout",
     "output_type": "stream",
     "text": [
      "Enter the marks:67\n",
      "Grade is B\n"
     ]
    }
   ],
   "source": [
    "mark=int(input('Enter the marks:'))\n",
    "if mark<25:\n",
    "    print('Grade is F')\n",
    "if mark>=25 and mark<45:\n",
    "    print('Grade is E')\n",
    "if mark>=45 and mark<50:\n",
    "    print('Grade is D')\n",
    "if mark>=50 and mark<60:\n",
    "    print('Grade is C')\n",
    "if mark>=60 and mark<80:\n",
    "    print('Grade is B')\n",
    "if mark>=80:\n",
    "    print('Grade is A')"
   ]
  },
  {
   "cell_type": "markdown",
   "id": "19d24754",
   "metadata": {},
   "source": [
    "2. You have a list of names. Create a new list which contains only the names\n",
    "with non-repeating characters.\n",
    "Sample input = [‘John’,’Peter’,’Meera’,’Mini’,’Krishna’]\n",
    "Sample output = [‘John’,Krishna]"
   ]
  },
  {
   "cell_type": "code",
   "execution_count": 161,
   "id": "f4ddd85a",
   "metadata": {},
   "outputs": [
    {
     "name": "stdout",
     "output_type": "stream",
     "text": [
      "Enter the names : [‘John’,’Peter’,’Meera’,’Mini’,’Krishna’] \n"
     ]
    }
   ],
   "source": [
    "inp=input(\"Enter the names : \")"
   ]
  },
  {
   "cell_type": "markdown",
   "id": "7bd2cf28",
   "metadata": {},
   "source": [
    "3. Take values of length and breadth of a rectangle from user and check if it\n",
    "is square or not"
   ]
  },
  {
   "cell_type": "code",
   "execution_count": 62,
   "id": "8f666cfd",
   "metadata": {},
   "outputs": [
    {
     "name": "stdout",
     "output_type": "stream",
     "text": [
      "Enter the length of rectangle: 6\n",
      "Enter the breadth of rectangle: 8\n",
      "Not a square\n"
     ]
    }
   ],
   "source": [
    "leng=int(input('Enter the length of rectangle: '))\n",
    "br=int(input('Enter the breadth of rectangle: '))\n",
    "if leng==br:\n",
    "    print('It is a Square')\n",
    "else:\n",
    "    print('Not a square')"
   ]
  },
  {
   "cell_type": "markdown",
   "id": "bc52cd12",
   "metadata": {},
   "source": [
    "4. A student will not be allowed to sit in exam if his/her attendance is less\n",
    "than 75%. Take following input from user Number of classes held\n",
    "Number of classes attended. And print percentage of class attended Is\n",
    "student is allowed to sit in exam or not"
   ]
  },
  {
   "cell_type": "code",
   "execution_count": 69,
   "id": "5f953c6f",
   "metadata": {},
   "outputs": [
    {
     "name": "stdout",
     "output_type": "stream",
     "text": [
      "Number of classes held = 500\n",
      "Number of classes attended = 375\n",
      "Percentage of class attended is=  75.0\n",
      "Allowed to attend the exam\n"
     ]
    }
   ],
   "source": [
    "held=int(input('Number of classes held = '))\n",
    "attnd=int(input('Number of classes attended = '))\n",
    "allowed=(attnd/held)*100\n",
    "print('Percentage of class attended is= ',allowed)\n",
    "if allowed>=75:\n",
    "    print('Allowed to attend the exam')\n",
    "else:\n",
    "    print('Not allowed to attend the exam')"
   ]
  },
  {
   "cell_type": "markdown",
   "id": "709e3c75",
   "metadata": {},
   "source": [
    "5. Create a list by taking length of the list and elements of the list from user.\n",
    "Then find the sum of the elements of the list. Also create a new called even\n",
    "list which contains only even numbers from first list and odd list which\n",
    "contains odd numbers from the list.\n",
    "Sample input:\n",
    "Length of the list = 5\n",
    "List1 = [2,6,3,1,5]\n",
    "Sum = 17\n",
    "Even_list=[2,6]\n",
    "Odd_list=[3,1,5]"
   ]
  },
  {
   "cell_type": "code",
   "execution_count": 158,
   "id": "c7119002",
   "metadata": {},
   "outputs": [
    {
     "name": "stdout",
     "output_type": "stream",
     "text": [
      "Enter the length of the list = 5\n",
      "List1 =  [2, 6, 3, 1, 5]\n",
      "sum =  17\n",
      "Even numbers in the list:  [6]\n",
      "Odd numbers in the list:  [5]\n"
     ]
    }
   ],
   "source": [
    "leng=int(input('Enter the length of the list = '))\n",
    "total=0\n",
    "ele=0\n",
    "list1 = [2,6,3,1,5]\n",
    "print('List1 = ',list1)\n",
    "for ele in range(0, len(list1)):\n",
    "    total = total + list1[ele]\n",
    "print('sum = ',total)\n",
    "for num in list1:\n",
    "    if num % 2 == 0:\n",
    "        even=[num]\n",
    "    else:\n",
    "        odd=[num]\n",
    "print(\"Even numbers in the list: \", even)\n",
    "print(\"Odd numbers in the list: \", odd)"
   ]
  },
  {
   "cell_type": "markdown",
   "id": "47b255d8",
   "metadata": {},
   "source": [
    "6. Create a sample chatbot for an ecommerce website."
   ]
  },
  {
   "cell_type": "code",
   "execution_count": null,
   "id": "d29065d6",
   "metadata": {},
   "outputs": [],
   "source": []
  },
  {
   "cell_type": "markdown",
   "id": "61bc342e",
   "metadata": {},
   "source": [
    "7. Write a program to find the roots of a quadratic equation. Get the coefficients of quadratic equation ax^2+bx+c and display whether the roots\n",
    "are real and equal or real and distinct or roots are imaginary. You have to\n",
    "find the roots and display it as well. "
   ]
  },
  {
   "cell_type": "code",
   "execution_count": 162,
   "id": "f6eec88e",
   "metadata": {},
   "outputs": [
    {
     "name": "stdout",
     "output_type": "stream",
     "text": [
      "The solution are (-3+0j) and (-2+0j)\n"
     ]
    }
   ],
   "source": [
    "import cmath\n",
    "a = 1\n",
    "b = 5\n",
    "c = 6\n",
    "d = (b**2) - (4*a*c)\n",
    "sol1 = (-b-cmath.sqrt(d))/(2*a)\n",
    "sol2 = (-b+cmath.sqrt(d))/(2*a)\n",
    "print('The solution are {0} and {1}'.format(sol1,sol2))"
   ]
  },
  {
   "cell_type": "markdown",
   "id": "24ca8dea",
   "metadata": {},
   "source": [
    "8. Given a range of first 10 numbers, write a Python program to iterate from\n",
    "start number to the end number and print the sum of the current number\n",
    "and previous number.\n",
    "Sample input: 1….10\n",
    "Sample output: Current Number 1 Previous Number 0 Sum: 1\n",
    "Current Number 2 Previous Number 1 Sum: 3\n",
    "Current Number 3 Previous Number 2 Sum: 5…\n",
    "…….\n",
    "Current Number 10 Previous Number 9 Sum: 19"
   ]
  },
  {
   "cell_type": "code",
   "execution_count": null,
   "id": "adff434a",
   "metadata": {},
   "outputs": [],
   "source": []
  },
  {
   "cell_type": "markdown",
   "id": "6d812024",
   "metadata": {},
   "source": [
    "9. Write a Python program to find the prime numbers in a given range. Get\n",
    "the range from user and print prime numbers in that range."
   ]
  },
  {
   "cell_type": "code",
   "execution_count": null,
   "id": "3c22ae34",
   "metadata": {},
   "outputs": [],
   "source": []
  },
  {
   "cell_type": "markdown",
   "id": "21959783",
   "metadata": {},
   "source": [
    "10. Write a Python program to print Fibonacci series in a given range. Get\n",
    "the range from user and print fibonacci numbers in that range."
   ]
  },
  {
   "cell_type": "code",
   "execution_count": null,
   "id": "0a4d1a56",
   "metadata": {},
   "outputs": [],
   "source": []
  }
 ],
 "metadata": {
  "kernelspec": {
   "display_name": "Python 3 (ipykernel)",
   "language": "python",
   "name": "python3"
  },
  "language_info": {
   "codemirror_mode": {
    "name": "ipython",
    "version": 3
   },
   "file_extension": ".py",
   "mimetype": "text/x-python",
   "name": "python",
   "nbconvert_exporter": "python",
   "pygments_lexer": "ipython3",
   "version": "3.9.13"
  }
 },
 "nbformat": 4,
 "nbformat_minor": 5
}
