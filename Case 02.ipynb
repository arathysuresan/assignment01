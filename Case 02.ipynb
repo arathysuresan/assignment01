{
 "cells": [
  {
   "cell_type": "code",
   "execution_count": 10,
   "id": "e3892256",
   "metadata": {},
   "outputs": [
    {
     "name": "stdout",
     "output_type": "stream",
     "text": [
      "Enter number of elements : 3\n",
      "\n",
      "Enter the numbers : 3 3 3 \n",
      "\n",
      "List is :  [3, 3, 3]\n",
      "\n",
      "Total = 9\n"
     ]
    }
   ],
   "source": [
    "#Write a Python function to sum all the numbers in a list. (Create a list and get list elements from user)\n",
    "\n",
    "n = int(input(\"Enter number of elements : \"))\n",
    "a = list(map(int,input(\"\\nEnter the numbers : \").strip().split()))[:n]\n",
    "print(\"\\nList is : \", a)\n",
    "total = 0\n",
    "for x in a:\n",
    "    total += x\n",
    "print(\"\\nTotal =\",total)"
   ]
  },
  {
   "cell_type": "code",
   "execution_count": 55,
   "id": "a4b1264c",
   "metadata": {},
   "outputs": [
    {
     "name": "stdout",
     "output_type": "stream",
     "text": [
      "False\n"
     ]
    }
   ],
   "source": [
    "#Write a Python function that checks whether a passed string is palindrome or not\n",
    "\n",
    "def isPalindrome(string):\n",
    "    left = 0\n",
    "    right = len(string) - 1\n",
    "    while right >= left:\n",
    "        if not string[left] == string[right]:\n",
    "            return False\n",
    "        left += 1\n",
    "        right -= 1\n",
    "    return True\n",
    "print(isPalindrome('age')) "
   ]
  },
  {
   "cell_type": "code",
   "execution_count": 57,
   "id": "0231125c",
   "metadata": {},
   "outputs": [
    {
     "name": "stdout",
     "output_type": "stream",
     "text": [
      "Enter the limit of Fibonacci series : 10\n",
      "Fibonacci sequence:\n",
      "0\n",
      "1\n",
      "1\n",
      "2\n",
      "3\n",
      "5\n",
      "8\n",
      "13\n",
      "21\n",
      "34\n"
     ]
    }
   ],
   "source": [
    "#Write a Python recursive function to find the Fibonacci series. Get the limit from the user\n",
    "\n",
    "def fibo(n):\n",
    "   if n <= 1:\n",
    "       return n\n",
    "   else:\n",
    "       return(fibo(n-1) + fibo(n-2))\n",
    "\n",
    "n = int(input('Enter the limit of Fibonacci series : '))\n",
    "\n",
    "if n <= 0:\n",
    "   print(\"Plese enter a positive integer\")\n",
    "else:\n",
    "   print(\"Fibonacci sequence:\")\n",
    "   for i in range(n):\n",
    "       print(fibo(i))\n"
   ]
  },
  {
   "cell_type": "code",
   "execution_count": 58,
   "id": "5ba8e696",
   "metadata": {},
   "outputs": [
    {
     "name": "stdout",
     "output_type": "stream",
     "text": [
      "Enter the number: 4\n",
      "Multiplication Table of 4\n",
      "4 X 1 = 4\n",
      "4 X 2 = 8\n",
      "4 X 3 = 12\n",
      "4 X 4 = 16\n",
      "4 X 5 = 20\n",
      "4 X 6 = 24\n",
      "4 X 7 = 28\n",
      "4 X 8 = 32\n",
      "4 X 9 = 36\n",
      "4 X 10 = 40\n"
     ]
    }
   ],
   "source": [
    "#Write a Python recursive function to print the multiplication table of given number\n",
    "\n",
    "n = int(input(\"Enter the number: \"))\n",
    "\n",
    "print(\"Multiplication Table of\", n)\n",
    "for i in range(1, 11):\n",
    "   print(n,\"X\",i,\"=\",n * i)"
   ]
  },
  {
   "cell_type": "code",
   "execution_count": 63,
   "id": "7a323f76",
   "metadata": {},
   "outputs": [
    {
     "name": "stdout",
     "output_type": "stream",
     "text": [
      "Enter the Word : arathy\n",
      "Number of Vowels in the Word =  2\n",
      "Number of Consonants in the Word =  4\n"
     ]
    }
   ],
   "source": [
    "#Define a function which counts vowels and consonant in a word\n",
    "\n",
    "word = input(\"Enter the Word : \")\n",
    "vowels = 0\n",
    "consonants = 0\n",
    "\n",
    "for i in word:\n",
    "    if(i == 'a' or i == 'e' or i == 'i' or i == 'o' or i == 'u'\n",
    "       or i == 'A' or i == 'E' or i == 'I' or i == 'O' or i == 'U'):\n",
    "        vowels = vowels + 1\n",
    "    else:\n",
    "        consonants = consonants + 1\n",
    " \n",
    "print(\"Number of Vowels in the Word = \", vowels)\n",
    "print(\"Number of Consonants in the Word = \", consonants)"
   ]
  },
  {
   "cell_type": "code",
   "execution_count": 66,
   "id": "abe3f207",
   "metadata": {},
   "outputs": [
    {
     "name": "stdout",
     "output_type": "stream",
     "text": [
      "Enter the string: arathy\n",
      "Modified string: ARATHY\n"
     ]
    }
   ],
   "source": [
    "#Define a function that accepts lowercase words and returns uppercase words\n",
    "\n",
    "\n",
    "string=input('Enter the string: ')\n",
    "if string.islower():\n",
    "    print('Modified string:',string.upper())\n",
    "else:\n",
    "    print('Enter string is not in Lowercase')\n"
   ]
  },
  {
   "cell_type": "code",
   "execution_count": 67,
   "id": "a703ddd0",
   "metadata": {},
   "outputs": [
    {
     "name": "stdout",
     "output_type": "stream",
     "text": [
      "Given Input:\n",
      "[12, 0, None, 23, None, -55, 234, 89, None, 0, 6, -12]\n",
      "\n",
      "Without None value:\n",
      "[12, 0, 23, -55, 234, 89, 0, 6, -12]\n"
     ]
    }
   ],
   "source": [
    "#Write a Python program to remove ‘None’ values from a given list using the lambda function\n",
    "#Given input = [12, 0, None, 23, None, -55, 234, 89, None, 0, 6, -12]\n",
    "#Expected output = [12, 0, 23, -55, 234, 89, 0, 6, -12]\n",
    "\n",
    "def none(n):\n",
    "    output = filter(lambda v: v is not None, n)\n",
    "    return list(output)\n",
    "n = [12, 0, None, 23, None, -55, 234, 89, None, 0, 6, -12]\n",
    "print(\"Given Input:\")\n",
    "print(n)\n",
    "print(\"\\nWithout None value:\")\n",
    "print(none(n))"
   ]
  },
  {
   "cell_type": "code",
   "execution_count": null,
   "id": "f5491ffa",
   "metadata": {},
   "outputs": [],
   "source": [
    "#Write a Rectangle class in Python language, allowing you to build a rectangle with length and width attributes.\n",
    "#a. Create a Perimeter() method to calculate the perimeter of the rectangle and a Area() method to calculate the area of the rectangle.\n",
    "#b. Create a method display() that display the length, width, perimeter and area of an object created using an instantiation on rectangle class.\n",
    "#c. Create a Parallelepiped child class inheriting from the Rectangle class and with a height attribute and another Volume() method to calculate the volume of the Parallelepiped.\n",
    "\n"
   ]
  }
 ],
 "metadata": {
  "kernelspec": {
   "display_name": "Python 3 (ipykernel)",
   "language": "python",
   "name": "python3"
  },
  "language_info": {
   "codemirror_mode": {
    "name": "ipython",
    "version": 3
   },
   "file_extension": ".py",
   "mimetype": "text/x-python",
   "name": "python",
   "nbconvert_exporter": "python",
   "pygments_lexer": "ipython3",
   "version": "3.9.13"
  }
 },
 "nbformat": 4,
 "nbformat_minor": 5
}
